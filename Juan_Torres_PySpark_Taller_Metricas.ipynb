{
  "nbformat": 4,
  "nbformat_minor": 0,
  "metadata": {
    "colab": {
      "provenance": []
    },
    "kernelspec": {
      "name": "python3",
      "display_name": "Python 3"
    },
    "language_info": {
      "name": "python"
    }
  },
  "cells": [
    {
      "cell_type": "markdown",
      "source": [
        "![LOGO_PUJ.png](data:image/png;base64,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)\n",
        "***Pontificia Universidad Javeriana***\n",
        "# **Procesamiento de Alto Volumen de Datos**\n",
        "\n",
        "### Taller: **Métricas de Rendimiento para Modelos de Clasificación con PySpark**\n",
        "\n",
        "Autor: Juan David Torres Chaparro\n",
        "\n",
        "Fecha: 19/05/25\n",
        "\n",
        "**Objetivo**: Evaluar modelo de clasificación MLlib\n",
        "\n",
        "- La clasificación se utiliza para clasificar datos en etiquetas o clases predefinidas. Para evaluar el rendimiento de un modelo de clasificación se suelen utilizar métricas como: accuracy, precision, recall, F1 score y la matriz de confusión. Estas métricas son útiles para evaluar lo bien que el modelo distingue entre clases, especialmente en casos de conjuntos de datos desequilibrados. Al conocer los puntos fuertes y débiles de cada métrica, se podrá seleccionar la más adecuada para un problema de clasificación determinado.\n",
        "\n",
        "- MLlib de PySpark, se presenta un conjunto de clases: BinaryClassificationEvaluator, MulticlassificationEvaluator, y RegressionEvaluator-diseñadas para evaluar el rendimiento de los modelos de aprendizaje automático calculando métricas específicas a partir de predicciones y etiquetas verdaderas. Se utilizan para evaluar modelos entrenados con estimadores como RandomForestClassifier o GBTRegressor, tomando un DataFrame con valores predichos y reales para producir una única puntuación de rendimiento. Ejecutados a través de una SparkSession, aprovechan los ejecutores de Spark para la computación distribuida, lo que los hace ideales para **BIG DATA** de fuentes como archivos CSV o Parquet. Se integran en herramientas de ajuste como CrossValidator y TrainValidationSplit, ofreciendo una solución escalable para la evaluación de modelos.\n",
        "____________________________________________________"
      ],
      "metadata": {
        "id": "jMm8j1zH9nTE"
      }
    },
    {
      "cell_type": "markdown",
      "source": [
        "**1.- Crear sessión PySpark**\n",
        "\n",
        "\n",
        "\n",
        "```\n",
        "from pyspark.sql.functions import col, when, avg\n",
        "from pyspark.sql import SparkSession\n",
        "\n",
        "spark = SparkSession.builder.appName(\"Taller_Metricas\").getOrCreate()\n",
        "\n",
        "cores = spark._jsc.sc().getExecutorMemoryStatus().keySet().size()\n",
        "print(\"Ejcución de las tareas en \", cores, \"core(s) del sistema de cómputo actual\")\n",
        "spark\n",
        "```\n",
        "\n"
      ],
      "metadata": {
        "id": "o886sDVt_81C"
      }
    },
    {
      "cell_type": "code",
      "execution_count": 1,
      "metadata": {
        "id": "fUJTGTwe5bJ6",
        "colab": {
          "base_uri": "https://localhost:8080/",
          "height": 237
        },
        "outputId": "3feb2355-3ccf-4b1c-fea9-7a4c5eb4c674"
      },
      "outputs": [
        {
          "output_type": "stream",
          "name": "stdout",
          "text": [
            "Ejcución de las tareas en  1 core(s) del sistema de cómputo actual\n"
          ]
        },
        {
          "output_type": "execute_result",
          "data": {
            "text/plain": [
              "<pyspark.sql.session.SparkSession at 0x7b07bcd1cbd0>"
            ],
            "text/html": [
              "\n",
              "            <div>\n",
              "                <p><b>SparkSession - in-memory</b></p>\n",
              "                \n",
              "        <div>\n",
              "            <p><b>SparkContext</b></p>\n",
              "\n",
              "            <p><a href=\"http://6f6cfb2cf947:4040\">Spark UI</a></p>\n",
              "\n",
              "            <dl>\n",
              "              <dt>Version</dt>\n",
              "                <dd><code>v3.5.1</code></dd>\n",
              "              <dt>Master</dt>\n",
              "                <dd><code>local[*]</code></dd>\n",
              "              <dt>AppName</dt>\n",
              "                <dd><code>Taller_Metricas</code></dd>\n",
              "            </dl>\n",
              "        </div>\n",
              "        \n",
              "            </div>\n",
              "        "
            ]
          },
          "metadata": {},
          "execution_count": 1
        }
      ],
      "source": [
        "from pyspark.sql.functions import col, when, avg\n",
        "from pyspark.sql import SparkSession\n",
        "\n",
        "spark = SparkSession.builder.appName(\"Taller_Metricas\").getOrCreate()\n",
        "\n",
        "cores = spark._jsc.sc().getExecutorMemoryStatus().keySet().size()\n",
        "print(\"Ejcución de las tareas en \", cores, \"core(s) del sistema de cómputo actual\")\n",
        "spark"
      ]
    },
    {
      "cell_type": "markdown",
      "source": [
        "**2.-Cargar DataFrame Spark:**\n",
        "- Enlace de datos: https://github.com/corredor-john/ExploratoryDataAnalisys/blob/main/Varios/heart_taller_eval_PySpark.csv\n",
        "\n",
        "```\n",
        "from pyspark import SparkFiles\n",
        "url_github = \"Enlace de datos\"\n",
        "\n",
        "spark.sparkContext.addFile(url_github)\n",
        "df00 = spark.read.csv(SparkFiles.get(\"fichero.csv\"),inferSchema=True, header=True)\n",
        "df00.show(5)\n",
        "```"
      ],
      "metadata": {
        "id": "mx1yUKjD_5-w"
      }
    },
    {
      "cell_type": "code",
      "source": [
        "from pyspark import SparkFiles\n",
        "\n",
        "url_github = \"https://raw.githubusercontent.com/corredor-john/ExploratoryDataAnalisys/main/Varios/heart_taller_eval_PySpark.csv\"\n",
        "spark.sparkContext.addFile(url_github)\n",
        "\n",
        "df00 = spark.read.csv(\"file://\" + SparkFiles.get(\"heart_taller_eval_PySpark.csv\"), inferSchema=True, header=True)\n",
        "df00.show(5)\n"
      ],
      "metadata": {
        "id": "C_7uU-OWAeOk",
        "colab": {
          "base_uri": "https://localhost:8080/"
        },
        "outputId": "0b423f0a-6064-4591-b1e6-23a2bee83220"
      },
      "execution_count": 2,
      "outputs": [
        {
          "output_type": "stream",
          "name": "stdout",
          "text": [
            "+---+---+-------------+---------+-----------+---------+----------+-----+--------------+-------+--------+------------+\n",
            "|Age|Sex|ChestPainType|RestingBP|Cholesterol|FastingBS|RestingECG|MaxHR|ExerciseAngina|Oldpeak|ST_Slope|HeartDisease|\n",
            "+---+---+-------------+---------+-----------+---------+----------+-----+--------------+-------+--------+------------+\n",
            "| 40|  M|          ATA|      140|        289|        0|    Normal|  172|             N|    0.0|      Up|           0|\n",
            "| 49|  F|          NAP|      160|        180|        0|    Normal|  156|             N|    1.0|    Flat|           1|\n",
            "| 37|  M|          ATA|      130|        283|        0|        ST|   98|             N|    0.0|      Up|           0|\n",
            "| 48|  F|          ASY|      138|        214|        0|    Normal|  108|             Y|    1.5|    Flat|           1|\n",
            "| 54|  M|          NAP|      150|        195|        0|    Normal|  122|             N|    0.0|      Up|           0|\n",
            "+---+---+-------------+---------+-----------+---------+----------+-----+--------------+-------+--------+------------+\n",
            "only showing top 5 rows\n",
            "\n"
          ]
        }
      ]
    },
    {
      "cell_type": "markdown",
      "source": [
        "### Descripción del Código\n",
        "\n",
        "En este fragmento de código se realizó lo siguiente:\n",
        "\n",
        "- Se importó `SparkFiles` desde `pyspark`.\n",
        "- Se cargó un archivo CSV desde un repositorio en GitHub utilizando `spark.sparkContext.addFile`.\n",
        "- Se leyó el archivo CSV con `spark.read.csv`, activando la inferencia automática del esquema (`inferSchema=True`) y reconociendo la primera fila como encabezado (`header=True`).\n",
        "- Se visualizó el contenido mostrando las primeras 5 filas del DataFrame con `.show(5)`."
      ],
      "metadata": {
        "id": "eV785srPrbuE"
      }
    },
    {
      "cell_type": "markdown",
      "source": [
        "**3.- Revisión de Datos Nulos o Imposibles:**\n",
        "\n",
        "\n",
        "```\n",
        "from pyspark.sql.functions import *\n",
        "\n",
        "df3.select([count(when(col(c).contains('None') |\n",
        "col(c).contains('NULL') |\n",
        "(col(c) == '' ) |\n",
        "col(c).isNull() | isnan(c), c )).alias(c)\n",
        "for c in df34.columns]).show()\n",
        ")\n",
        "```"
      ],
      "metadata": {
        "id": "PM8PKgzJBsAs"
      }
    },
    {
      "cell_type": "code",
      "source": [
        "from pyspark.sql.functions import *\n",
        "\n",
        "df00.select([count(when(col(c).contains('None') |\n",
        "col(c).contains('NULL') |\n",
        "(col(c) == '' ) |\n",
        "col(c).isNull() | isnan(c), c )).alias(c)\n",
        "for c in df00.columns]).show()\n"
      ],
      "metadata": {
        "id": "1sw8T-KPCfMW",
        "colab": {
          "base_uri": "https://localhost:8080/"
        },
        "outputId": "29182ae9-5eea-452b-c8bf-20f6828c50e8"
      },
      "execution_count": 3,
      "outputs": [
        {
          "output_type": "stream",
          "name": "stdout",
          "text": [
            "+---+---+-------------+---------+-----------+---------+----------+-----+--------------+-------+--------+------------+\n",
            "|Age|Sex|ChestPainType|RestingBP|Cholesterol|FastingBS|RestingECG|MaxHR|ExerciseAngina|Oldpeak|ST_Slope|HeartDisease|\n",
            "+---+---+-------------+---------+-----------+---------+----------+-----+--------------+-------+--------+------------+\n",
            "|  0|  0|            0|        0|          0|        0|         0|    0|             0|      0|       0|           0|\n",
            "+---+---+-------------+---------+-----------+---------+----------+-----+--------------+-------+--------+------------+\n",
            "\n"
          ]
        }
      ]
    },
    {
      "cell_type": "markdown",
      "source": [
        "### Revisión de valores nulos\n",
        "\n",
        "Se utilizó PySpark para contar valores nulos, vacíos o no válidos en cada columna del DataFrame.  \n",
        "**Resultado:** No se encontraron valores faltantes en el dataset.\n"
      ],
      "metadata": {
        "id": "dqFtL5kDro7a"
      }
    },
    {
      "cell_type": "markdown",
      "source": [
        "**4.- Relación entre las variables**\n",
        "- Escriba algunas apreciaciones de las relaciones\n",
        "\n",
        "\n",
        "```\n",
        "import matplotlib\n",
        "import seaborn\n",
        "\n",
        "plt.figure(figsize =(X,x))\n",
        "vista_pandas = df6.toPandas()\n",
        "sns.heatmap(vista_pandas.select_dtypes(np.number).corr(), annot=True, center=0, cmap ='RdYlGn')\n",
        "```"
      ],
      "metadata": {
        "id": "WmfamSKBDVkV"
      }
    },
    {
      "cell_type": "code",
      "source": [
        "import matplotlib.pyplot as plt\n",
        "import seaborn as sns\n",
        "import numpy as np\n",
        "\n",
        "plt.figure(figsize=(10, 10))\n",
        "vista_pandas = df00.toPandas()\n",
        "sns.heatmap(vista_pandas.select_dtypes(np.number).corr(), annot=True, center=0, cmap='RdYlGn')\n"
      ],
      "metadata": {
        "id": "yjmuNTMqDNPR",
        "colab": {
          "base_uri": "https://localhost:8080/",
          "height": 853
        },
        "collapsed": true,
        "outputId": "df22d2bb-086b-453b-da39-1e41aae96db9"
      },
      "execution_count": 4,
      "outputs": [
        {
          "output_type": "execute_result",
          "data": {
            "text/plain": [
              "<Axes: >"
            ]
          },
          "metadata": {},
          "execution_count": 4
        },
        {
          "output_type": "display_data",
          "data": {
            "text/plain": [
              "<Figure size 1000x1000 with 2 Axes>"
            ],
            "image/png": "[encoded data removed]"
          },
          "metadata": {}
        }
      ]
    },
    {
      "cell_type": "markdown",
      "source": [
        "### Análisis Corregido del Mapa de Calor de Correlación\n",
        "\n",
        "El mapa de calor muestra la matriz de correlación entre variables numéricas del dataset de salud cardíaca. Cada celda indica la fuerza y dirección de la relación lineal entre pares de variables:\n",
        "\n",
        "- **Valores cercanos a 1 o -1** indican correlaciones fuertes.\n",
        "- **Colores verdes** representan correlación positiva.\n",
        "- **Colores anaranjados** indican correlación negativa.\n",
        "\n",
        "#### Observaciones clave:\n",
        "\n",
        "- **Age vs MaxHR**: Correlación negativa (-0.38). Las personas mayores tienden a tener una frecuencia cardíaca máxima menor.\n",
        "- **HeartDisease** tiene correlación:\n",
        "  - **Negativa con MaxHR** (-0.40): a mayor frecuencia cardíaca máxima, menor probabilidad de enfermedad cardíaca.\n",
        "  - **Positiva con Oldpeak** (0.40): mayor depresión del segmento ST está relacionada con presencia de enfermedad cardíaca.\n",
        "  - **Positiva con Age** (0.28) y **FastingBS** (0.27): mayor edad y glucosa en ayunas tienden a relacionarse con enfermedad cardíaca.\n",
        "- **Cholesterol** tiene correlaciones débiles con otras variables, incluyendo una correlación negativa leve con **HeartDisease** (-0.23).\n",
        "\n",
        "> En general, **MaxHR**, **Oldpeak**, **Age** y **FastingBS** son las variables con mayor correlación con la presencia de enfermedad cardíaca, lo cual puede ser útil para modelos predictivos.\n"
      ],
      "metadata": {
        "id": "WLaudfJ1sF_U"
      }
    },
    {
      "cell_type": "markdown",
      "source": [
        "### Ingeniería de características\n",
        "\n",
        "**5.- Consulte los tipos de datos**\n",
        "\n",
        "\n",
        "\n",
        "```\n",
        "dfBog.dtypes\n",
        "```"
      ],
      "metadata": {
        "id": "9HT_eOz3ELy-"
      }
    },
    {
      "cell_type": "code",
      "source": [
        "df00.dtypes"
      ],
      "metadata": {
        "id": "SoULLyiaEzEB",
        "colab": {
          "base_uri": "https://localhost:8080/"
        },
        "outputId": "92d59bec-729d-4c6e-a819-1e4dc2d4f60a"
      },
      "execution_count": 5,
      "outputs": [
        {
          "output_type": "execute_result",
          "data": {
            "text/plain": [
              "[('Age', 'int'),\n",
              " ('Sex', 'string'),\n",
              " ('ChestPainType', 'string'),\n",
              " ('RestingBP', 'int'),\n",
              " ('Cholesterol', 'int'),\n",
              " ('FastingBS', 'int'),\n",
              " ('RestingECG', 'string'),\n",
              " ('MaxHR', 'int'),\n",
              " ('ExerciseAngina', 'string'),\n",
              " ('Oldpeak', 'double'),\n",
              " ('ST_Slope', 'string'),\n",
              " ('HeartDisease', 'int')]"
            ]
          },
          "metadata": {},
          "execution_count": 5
        }
      ]
    },
    {
      "cell_type": "markdown",
      "source": [
        "**6.- Funciones para datos ETIQUETAS o categorías a Numéricos**\n",
        "- 6.1: Imprimir todas las columnas de Etiquetas del tipo string\n",
        "\n",
        "\n",
        "```\n",
        "dataframe.select('Columna_Str_A').distinct().show()\n",
        "dataframe.select('Columna_Str_H').distinct().show()\n",
        "```\n",
        "\n"
      ],
      "metadata": {
        "id": "rOWfBfseExTS"
      }
    },
    {
      "cell_type": "code",
      "source": [
        "df00.select('Sex').distinct().show()\n",
        "df00.select('ChestPainType').distinct().show()\n",
        "df00.select('RestingECG').distinct().show()\n",
        "df00.select('ExerciseAngina').distinct().show()\n",
        "df00.select('ST_Slope').distinct().show()"
      ],
      "metadata": {
        "id": "qnHAmmT8I-EF",
        "colab": {
          "base_uri": "https://localhost:8080/"
        },
        "outputId": "72fe1038-5ffc-4501-accd-27782ebbb4d0"
      },
      "execution_count": 6,
      "outputs": [
        {
          "output_type": "stream",
          "name": "stdout",
          "text": [
            "+---+\n",
            "|Sex|\n",
            "+---+\n",
            "|  F|\n",
            "|  M|\n",
            "+---+\n",
            "\n",
            "+-------------+\n",
            "|ChestPainType|\n",
            "+-------------+\n",
            "|          NAP|\n",
            "|          ATA|\n",
            "|           TA|\n",
            "|          ASY|\n",
            "+-------------+\n",
            "\n",
            "+----------+\n",
            "|RestingECG|\n",
            "+----------+\n",
            "|       LVH|\n",
            "|    Normal|\n",
            "|        ST|\n",
            "+----------+\n",
            "\n",
            "+--------------+\n",
            "|ExerciseAngina|\n",
            "+--------------+\n",
            "|             Y|\n",
            "|             N|\n",
            "+--------------+\n",
            "\n",
            "+--------+\n",
            "|ST_Slope|\n",
            "+--------+\n",
            "|    Flat|\n",
            "|      Up|\n",
            "|    Down|\n",
            "+--------+\n",
            "\n"
          ]
        }
      ]
    },
    {
      "cell_type": "markdown",
      "source": [
        "- 6.2: Usar la función para cambiar a dato numéricos\n",
        "\n",
        "```\n",
        "from pyspark.sql.types import *\n",
        "from pyspark.ml.feature import StringIndexer\n",
        "from pyspark.ml.feature import VectorAssembler\n",
        "\n",
        "def fun_Etiquetas(df):\n",
        "    trans_df = df.select(\"*\",(when(df.ExerciseAngina=='Y', 1).otherwise(0)).alias('yes_exercise_angina')\n",
        "                 ,(when(df.ChestPainType=='ATA', 1).otherwise(0)).alias('ata_chest_pain_type')\n",
        "              ,(when(df.ChestPainType=='ASY', 1).otherwise(0)).alias('asy_chest_pain_type')\n",
        "              ,(when(df.ST_Slope=='Up', 1).otherwise(0)).alias('up_st_slope')\n",
        "              ,(when(df.Sex=='F', 1).otherwise(0)).alias('f_sex')\n",
        "              ,(when(df.RestingECG=='ST', 1).otherwise(0)).alias('st_resting_ecg')\n",
        "                 )\n",
        "        .drop('ExerciseAngina','ChestPainType', 'ST_Slope', 'Sex', 'RestingECG')\n",
        "        .withColumnRenamed(\"HeartDisease\", 'label')\n",
        "\n",
        "features_list = trans_df.columns\n",
        "print(features_list)\n",
        "features_list.remove('label')\n",
        "assembler = VectorAssembler(inputCols=features_list,outputCol='features')\n",
        "vector_trans_df = assembler.transform(trans_df).select('features','label')\n",
        "    \n",
        "return vector_trans_df, trans_df\n",
        "\n",
        "\n",
        "vector_trans_df, trans_df = fun_Etiquetas(dataframes)\n",
        "```"
      ],
      "metadata": {
        "id": "2ETI4HCZKWu4"
      }
    },
    {
      "cell_type": "code",
      "source": [
        "from pyspark.sql.types import *\n",
        "from pyspark.sql.functions import when\n",
        "from pyspark.ml.feature import VectorAssembler\n",
        "\n",
        "def fun_Etiquetas(df):\n",
        "    trans_df = (\n",
        "        df.select(\"*\",\n",
        "                  when(df.ExerciseAngina == 'Y', 1).otherwise(0).alias('yes_exercise_angina'),\n",
        "                  when(df.ChestPainType == 'ATA', 1).otherwise(0).alias('ata_chest_pain_type'),\n",
        "                  when(df.ChestPainType == 'ASY', 1).otherwise(0).alias('asy_chest_pain_type'),\n",
        "                  when(df.ST_Slope == 'Up', 1).otherwise(0).alias('up_st_slope'),\n",
        "                  when(df.Sex == 'F', 1).otherwise(0).alias('f_sex'),\n",
        "                  when(df.RestingECG == 'ST', 1).otherwise(0).alias('st_resting_ecg'))\n",
        "          .drop('ExerciseAngina', 'ChestPainType', 'ST_Slope', 'Sex', 'RestingECG')\n",
        "          .withColumnRenamed(\"HeartDisease\", \"label\")\n",
        "    )\n",
        "\n",
        "    features_list = trans_df.columns\n",
        "    features_list.remove('label')\n",
        "\n",
        "    assembler = VectorAssembler(inputCols=features_list, outputCol='features')\n",
        "    vector_trans_df = assembler.transform(trans_df).select('features', 'label')\n",
        "\n",
        "    return vector_trans_df, trans_df\n",
        "\n",
        "vector_trans_df, trans_df = fun_Etiquetas(df00)\n"
      ],
      "metadata": {
        "id": "FvqeYvu3HdWp"
      },
      "execution_count": 7,
      "outputs": []
    },
    {
      "cell_type": "markdown",
      "source": [
        "6.3.- Imprimir 5 primeros valores de la transformación a vectores\n",
        "\n",
        "```\n",
        "vector_trans_df.show(n, False)\n",
        "\n",
        "```"
      ],
      "metadata": {
        "id": "xNtK8d_BMHf8"
      }
    },
    {
      "cell_type": "code",
      "source": [
        "vector_trans_df.show(5, False)"
      ],
      "metadata": {
        "id": "nImAZzWKMjJc",
        "colab": {
          "base_uri": "https://localhost:8080/"
        },
        "outputId": "effa3464-3eb2-467d-b7f9-dd5f4123ee37"
      },
      "execution_count": 8,
      "outputs": [
        {
          "output_type": "stream",
          "name": "stdout",
          "text": [
            "+--------------------------------------------------------+-----+\n",
            "|features                                                |label|\n",
            "+--------------------------------------------------------+-----+\n",
            "|(12,[0,1,2,4,7,9],[40.0,140.0,289.0,172.0,1.0,1.0])     |0    |\n",
            "|(12,[0,1,2,4,5,10],[49.0,160.0,180.0,156.0,1.0,1.0])    |1    |\n",
            "|[37.0,130.0,283.0,0.0,98.0,0.0,0.0,1.0,0.0,1.0,0.0,1.0] |0    |\n",
            "|[48.0,138.0,214.0,0.0,108.0,1.5,1.0,0.0,1.0,0.0,1.0,0.0]|1    |\n",
            "|(12,[0,1,2,4,9],[54.0,150.0,195.0,122.0,1.0])           |0    |\n",
            "+--------------------------------------------------------+-----+\n",
            "only showing top 5 rows\n",
            "\n"
          ]
        }
      ]
    },
    {
      "cell_type": "markdown",
      "source": [
        "**7.- División de Datos Entrenamiento y Prueba**\n",
        "\n",
        "\n",
        "```\n",
        "entrenamiento, prueba = vector_trans_df.randomSplit([0.7,0.3], seed = 13)\n",
        "\n",
        "```"
      ],
      "metadata": {
        "id": "6iupKCo3F6fs"
      }
    },
    {
      "cell_type": "code",
      "source": [
        "entrenamiento, prueba = vector_trans_df.randomSplit([0.7,0.3], seed = 13)"
      ],
      "metadata": {
        "id": "BoUL-8QXM4nb"
      },
      "execution_count": 9,
      "outputs": []
    },
    {
      "cell_type": "markdown",
      "source": [
        "**8.- Consulta: Escriba sus apreciaciones sobre el balanceo de los datos, en Entrenamiento y en los de Prueba**\n",
        "\n",
        "\n",
        "\n",
        "```\n",
        "total=float(entrenamiento.select(\"label\").count())\n",
        "Positivos=entrenamiento.select(\"label\").where('label == 1').count()\n",
        "porcentaje=(float(Positivos)/float(total))*100\n",
        "Negativos=float(total-Negativos)\n",
        "print('Cantidad de positivos {}'.format(Positivos))\n",
        "print('Percentaje de positivos {}'.format(porcentaje))\n",
        "\n",
        "```"
      ],
      "metadata": {
        "id": "ns6BbXgdHiB_"
      }
    },
    {
      "cell_type": "code",
      "source": [
        "total=float(entrenamiento.select(\"label\").count())\n",
        "Positivos=entrenamiento.select(\"label\").where('label == 1').count()\n",
        "porcentaje = (float(Positivos)/float(total))*100\n",
        "Negativos = float(total-Positivos)\n",
        "print('Cantidad de positivos {}'.format(Positivos))\n",
        "print('Percentaje de positivos {}'.format(porcentaje))"
      ],
      "metadata": {
        "id": "YIhwG_46N250",
        "colab": {
          "base_uri": "https://localhost:8080/"
        },
        "outputId": "f9a71bf2-9b2f-4ba9-9520-d056e118478d"
      },
      "execution_count": 10,
      "outputs": [
        {
          "output_type": "stream",
          "name": "stdout",
          "text": [
            "Cantidad de positivos 359\n",
            "Percentaje de positivos 53.9039039039039\n"
          ]
        }
      ]
    },
    {
      "cell_type": "markdown",
      "source": [
        "## Modelado\n",
        "\n",
        "**9.- Modelo a seguir es de árboles de decisiones**\n",
        "\n",
        "```\n",
        "from pyspark.ml.classification import DecisionTreeClassifier\n",
        "\n",
        "parametros = {'maxDepth':4}\n",
        "\n",
        "clasificador = DecisionTreeClassifier(**parametros, seed= 13)\n",
        "clasificador\n",
        "\n",
        "modeloArboles = clasificador.fit(trainset)\n",
        "\n",
        "```\n",
        "\n"
      ],
      "metadata": {
        "id": "dadIQP7fIdYZ"
      }
    },
    {
      "cell_type": "code",
      "source": [
        "from pyspark.ml.classification import DecisionTreeClassifier\n",
        "\n",
        "parametros = {'maxDepth':4}\n",
        "\n",
        "clasificador = DecisionTreeClassifier(**parametros, seed= 13)\n",
        "clasificador\n",
        "\n",
        "modeloArboles = clasificador.fit(entrenamiento)"
      ],
      "metadata": {
        "id": "KexEowFx9SGJ"
      },
      "execution_count": 11,
      "outputs": []
    },
    {
      "cell_type": "markdown",
      "source": [
        "**10.- Predicciones sobre los datos de prueba**\n",
        "\n",
        "```\n",
        "prediccionesPrueba = clasificador.transform(valoresPruebas)\n",
        "prediccionesPrueba.show(2, False)\n",
        "\n",
        "```"
      ],
      "metadata": {
        "id": "51MydsfWRoP9"
      }
    },
    {
      "cell_type": "code",
      "source": [
        "prediccionesPrueba = modeloArboles.transform(prueba)\n",
        "prediccionesPrueba.show(2, False)\n"
      ],
      "metadata": {
        "id": "IAMO_xERRnu2",
        "colab": {
          "base_uri": "https://localhost:8080/"
        },
        "collapsed": true,
        "outputId": "71da2285-8d8e-4384-9ec3-3844d83247ba"
      },
      "execution_count": 12,
      "outputs": [
        {
          "output_type": "stream",
          "name": "stdout",
          "text": [
            "+---------------------------------------------------+-----+-------------+---------------------------------------+----------+\n",
            "|features                                           |label|rawPrediction|probability                            |prediction|\n",
            "+---------------------------------------------------+-----+-------------+---------------------------------------+----------+\n",
            "|(12,[0,1,2,3,4],[74.0,140.0,237.0,1.0,94.0])       |1    |[9.0,36.0]   |[0.2,0.8]                              |1.0       |\n",
            "|(12,[0,1,2,3,4,5],[52.0,152.0,298.0,1.0,178.0,1.2])|0    |[6.0,15.0]   |[0.2857142857142857,0.7142857142857143]|1.0       |\n",
            "+---------------------------------------------------+-----+-------------+---------------------------------------+----------+\n",
            "only showing top 2 rows\n",
            "\n"
          ]
        }
      ]
    },
    {
      "cell_type": "markdown",
      "source": [
        "##**11.- Evaluación de Modelo de Clasificación**\n",
        "\n",
        "- Presente la matriz de confusión y de sus apreciaciones\n",
        "- Reto pinte ROC y obtenga el valor AUC y de sus apreciaciones\n",
        "\n",
        "```\n",
        "matrzC_prueba = predictionAndLabels.crosstab(\"prediction\", \"label\")\n",
        "matrzC_prueba = matrzC_prueba.toPandas()\n",
        "matrzC_prueba.sort_values(by = ['prediction_label'])\n",
        "```\n"
      ],
      "metadata": {
        "id": "EDShDkwKSO9Z"
      }
    },
    {
      "cell_type": "code",
      "source": [
        "matrzC_prueba = prediccionesPrueba.crosstab(\"prediction\", \"label\")\n",
        "\n",
        "matrzC_prueba = matrzC_prueba.toPandas()\n",
        "\n",
        "matrzC_prueba = matrzC_prueba.sort_values(by=['prediction_label'])\n",
        "\n",
        "print(matrzC_prueba)\n"
      ],
      "metadata": {
        "id": "hx-yolwwT7vJ",
        "colab": {
          "base_uri": "https://localhost:8080/"
        },
        "outputId": "8aa072e7-9246-48af-bd25-52e3acbb77d6"
      },
      "execution_count": 13,
      "outputs": [
        {
          "output_type": "stream",
          "name": "stdout",
          "text": [
            "  prediction_label   0    1\n",
            "1              0.0  82   27\n",
            "0              1.0  21  122\n"
          ]
        }
      ]
    },
    {
      "cell_type": "markdown",
      "source": [
        "\n",
        "- Imprima las métricas a continuación en (0.00%), escriba sus apreciaciones\n",
        "\n",
        "```\n",
        "TP = cm_pruebas[\"1\"][0]\n",
        "FP = cm_pruebas[\"0\"][0]\n",
        "TN = cm_pruebs[\"0\"][1]\n",
        "FN = cm_pruba[\"1\"][1]\n",
        "Accuracy = (TP+TN)/(TP+FP+TN+FN)\n",
        "Sensitivity = TP/(TP+FN)\n",
        "Specificity = TN/(TN+FP)\n",
        "Precision = TP/(TP+FP)\n",
        "\n",
        "\n",
        "print(f\"Metrica = {np.round(Metrica,n)*100}%\")\n",
        "\n",
        "```"
      ],
      "metadata": {
        "id": "gNWpTGWHTqId"
      }
    },
    {
      "cell_type": "code",
      "source": [
        "TP = matrzC_prueba[\"1\"][0]\n",
        "FP = matrzC_prueba[\"0\"][0]\n",
        "TN = matrzC_prueba[\"0\"][1]\n",
        "FN = matrzC_prueba[\"1\"][1]\n",
        "Accuracy = (TP+TN)/(TP+FP+TN+FN)\n",
        "Sensitivity = TP/(TP+FN)\n",
        "Specificity = TN/(TN+FP)\n",
        "Precision = TP/(TP+FP)\n",
        "\n",
        "\n",
        "print(f\"Accuracy = {np.round(Accuracy,1)*100}%\")\n",
        "print(f\"Sensitivity = {np.round(Sensitivity,1)*100}%\")\n",
        "print(f\"Specificity = {np.round(Specificity,1)*100}%\")\n",
        "print(f\"Precision = {np.round(Precision,1)*100}%\")"
      ],
      "metadata": {
        "id": "rdJr7oj1SOlB",
        "colab": {
          "base_uri": "https://localhost:8080/"
        },
        "outputId": "c60f1bb7-417e-4477-9b34-88edad9f0e47"
      },
      "execution_count": 14,
      "outputs": [
        {
          "output_type": "stream",
          "name": "stdout",
          "text": [
            "Accuracy = 80.0%\n",
            "Sensitivity = 80.0%\n",
            "Specificity = 80.0%\n",
            "Precision = 90.0%\n"
          ]
        }
      ]
    },
    {
      "cell_type": "markdown",
      "source": [
        "### Observaciones sobre las métricas del modelo\n",
        "\n",
        "A partir de la matriz de confusión y el cálculo de métricas de desempeño del modelo, se obtuvieron los siguientes resultados:\n",
        "\n",
        "- **Accuracy (Exactitud): 80.0%**  \n",
        "  El modelo clasifica correctamente el 80% de los casos totales (tanto positivos como negativos). Es un buen punto de partida, aunque no lo dice todo en datasets desbalanceados.\n",
        "\n",
        "- **Sensitivity (Sensibilidad o Recall): 80.0%**  \n",
        "  El 80% de los verdaderos positivos fueron correctamente identificados. Esto indica una buena capacidad del modelo para detectar casos positivos (enfermedad presente).\n",
        "\n",
        "- **Specificity (Especificidad): 80.0%**  \n",
        "  El 80% de los verdaderos negativos fueron correctamente clasificados. El modelo también identifica bien a los individuos sin la condición.\n",
        "\n",
        "- **Precision (Precisión): 90.0%**  \n",
        "  De todas las predicciones positivas, el 90% realmente tenía la condición. Esto indica un bajo número de falsos positivos.\n",
        "\n",
        "#### Conclusión:\n",
        "\n",
        "El modelo muestra un rendimiento equilibrado entre sensibilidad y especificidad, con una **precisión especialmente alta (90%)**, lo que sugiere que es confiable al predecir casos positivos. Sin embargo, se recomienda validar estas métricas con otras pruebas o mediante validación cruzada para asegurar su estabilidad.\n"
      ],
      "metadata": {
        "id": "J2m1xWevYUP5"
      }
    },
    {
      "cell_type": "code",
      "source": [
        "from pyspark.ml.evaluation import BinaryClassificationEvaluator\n",
        "from pyspark.ml.tuning import CrossValidator\n",
        "from pyspark.ml import Pipeline\n",
        "import matplotlib.pyplot as plt\n",
        "\n",
        "evaluator = BinaryClassificationEvaluator(rawPredictionCol=\"rawPrediction\", labelCol=\"label\", metricName=\"areaUnderROC\")\n",
        "auc = evaluator.evaluate(prediccionesPrueba)\n",
        "\n",
        "print(f\"AUC = {np.round(auc, 2)*100}%\")\n",
        "\n",
        "probs_labels = prediccionesPrueba.select(\"probability\", \"label\").rdd.map(lambda row: (float(row.probability[1]), float(row.label)))\n",
        "probs_labels_df = probs_labels.toDF([\"probability\", \"label\"]).toPandas()\n",
        "\n",
        "from sklearn.metrics import roc_curve, auc\n",
        "\n",
        "fpr, tpr, thresholds = roc_curve(probs_labels_df['label'], probs_labels_df['probability'])\n",
        "roc_auc = auc(fpr, tpr)\n",
        "\n",
        "plt.figure(figsize=(6, 6))\n",
        "plt.plot(fpr, tpr, label=f'ROC curve (AUC = {roc_auc:.2f})')\n",
        "plt.plot([0, 1], [0, 1], 'k--', label=\"Random classifier\")\n",
        "plt.xlabel('False Positive Rate')\n",
        "plt.ylabel('True Positive Rate')\n",
        "plt.title('Receiver Operating Characteristic')\n",
        "plt.legend(loc=\"lower right\")\n",
        "plt.grid()\n",
        "plt.show()\n"
      ],
      "metadata": {
        "colab": {
          "base_uri": "https://localhost:8080/",
          "height": 581
        },
        "id": "ltbX7ac8X93o",
        "outputId": "fbe381d7-73c1-41fc-9734-d10524e8b91d"
      },
      "execution_count": 15,
      "outputs": [
        {
          "output_type": "stream",
          "name": "stdout",
          "text": [
            "AUC = 87.0%\n"
          ]
        },
        {
          "output_type": "display_data",
          "data": {
            "text/plain": [
              "<Figure size 600x600 with 1 Axes>"
            ],
            "image/png": "[encoded data removed]"
          },
          "metadata": {}
        }
      ]
    },
    {
      "cell_type": "markdown",
      "source": [
        "### Análisis de la Curva ROC y AUC\n",
        "\n",
        "La gráfica muestra la **Curva ROC (Receiver Operating Characteristic)**, una herramienta para evaluar el rendimiento de un modelo de clasificación binaria.\n",
        "\n",
        "#### Puntos clave:\n",
        "\n",
        "- **Eje X (False Positive Rate)**: proporción de negativos incorrectamente clasificados como positivos.\n",
        "- **Eje Y (True Positive Rate o Sensibilidad)**: proporción de positivos correctamente identificados.\n",
        "- **Línea negra punteada**: clasificador aleatorio (baseline).\n",
        "- **Curva azul**: desempeño del modelo.\n",
        "\n",
        "#### Métrica destacada:\n",
        "\n",
        "- **AUC (Área Bajo la Curva) = 0.87 (87%)**  \n",
        "  Este valor indica una **alta capacidad del modelo para distinguir entre clases positivas y negativas**. Un AUC cercano a 1.0 refleja un modelo muy eficaz, mientras que un AUC de 0.5 indicaría un rendimiento equivalente al azar.\n",
        "\n",
        "#### Conclusión:\n",
        "\n",
        "El modelo presenta un **buen balance entre sensibilidad y especificidad**, con una AUC del 87%, lo cual respalda los resultados obtenidos en otras métricas como accuracy, precisión y recall.\n"
      ],
      "metadata": {
        "id": "RzOInF2wZT8w"
      }
    },
    {
      "cell_type": "markdown",
      "source": [
        "**12.- Terminar sesión SPARK**\n",
        "\n",
        "```\n",
        "spark.stop()\n",
        "```"
      ],
      "metadata": {
        "id": "gxxYsasOY8jd"
      }
    },
    {
      "cell_type": "code",
      "source": [
        "spark.stop()"
      ],
      "metadata": {
        "id": "1CSKuyS5ZRVR"
      },
      "execution_count": 16,
      "outputs": []
    },
    {
      "cell_type": "markdown",
      "source": [
        "## **12.- Conclusiones: redacte sus conclusiones por cada paso y conclusión final de Cierre**\n",
        "\n",
        "-\n",
        "-\n",
        "..."
      ],
      "metadata": {
        "id": "QaMp7qVgIOYc"
      }
    },
    {
      "cell_type": "markdown",
      "source": [
        "###Conclusiones por paso\n",
        "\n",
        "A lo largo del análisis se cargaron y exploraron datos relacionados con enfermedades cardíacas usando PySpark, verificando primero la ausencia de valores nulos o inconsistencias. Luego, se realizó un análisis de correlación que permitió identificar variables relevantes como la frecuencia cardíaca máxima (MaxHR), la depresión del ST (Oldpeak), la edad y la glucosa en ayunas (FastingBS), por su asociación con la presencia de enfermedad. Posteriormente, se entrenó un modelo de clasificación cuyos resultados arrojaron métricas satisfactorias: 80% de exactitud, sensibilidad y especificidad, y una precisión destacable del 90%. La evaluación final con la curva ROC mostró un AUC de 0.87, lo cual indica una alta capacidad para distinguir entre pacientes con y sin enfermedad cardíaca. Como sugerencia, sería útil aplicar técnicas de validación cruzada y probar con otros algoritmos para comparar desempeño, así como complementar el modelo con variables adicionales si están disponibles. Estos pasos refuerzan la utilidad del análisis como una herramienta de apoyo en la toma de decisiones médicas preliminares.\n"
      ],
      "metadata": {
        "id": "BbVbqP5GalpV"
      }
    }
  ]
}