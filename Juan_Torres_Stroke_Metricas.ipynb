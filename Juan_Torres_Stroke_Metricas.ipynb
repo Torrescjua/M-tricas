{
  "cells": [
    {
      "cell_type": "markdown",
      "metadata": {
        "application/vnd.databricks.v1+cell": {
          "cellMetadata": {
            "byteLimit": 2048000,
            "rowLimit": 10000
          },
          "inputWidgets": {},
          "nuid": "d4fb300a-2221-421b-8aca-0e690565f2d9",
          "showTitle": false,
          "tableResultSettingsMap": {},
          "title": ""
        },
        "id": "b-kDduDxi941"
      },
      "source": [
        "**Fecha:** 03-02-2025, 10-02-2025, 17-02-2025\n",
        "\n",
        "**Autor:** _Juan D. Torres Chaparro, B.Eng_\n",
        "\n",
        "**Materia:** Procesamiento de Alto Volúmen de Datos\n",
        "\n",
        "**Tópico:** _Introducción a PySpark en el Ambiente Databricks_"
      ]
    },
    {
      "cell_type": "code",
      "execution_count": 1,
      "metadata": {
        "application/vnd.databricks.v1+cell": {
          "cellMetadata": {
            "byteLimit": 2048000,
            "rowLimit": 10000
          },
          "inputWidgets": {},
          "nuid": "3f45dd67-6fd9-4a26-bf22-b0289513b020",
          "showTitle": false,
          "tableResultSettingsMap": {},
          "title": ""
        },
        "id": "RyUB_Z6hi942"
      },
      "outputs": [],
      "source": [
        "import numpy as np\n",
        "import matplotlib.pyplot as plt\n",
        "import seaborn as sns\n",
        "from pyspark.sql import SparkSession, SQLContext\n",
        "from pyspark.sql import functions as F\n",
        "from pyspark.sql.types import *\n",
        "from pyspark.sql.functions import mean, col, split, count, when, lit, isnan"
      ]
    },
    {
      "cell_type": "markdown",
      "metadata": {
        "application/vnd.databricks.v1+cell": {
          "cellMetadata": {},
          "inputWidgets": {},
          "nuid": "931a1c03-714d-4ea3-b271-8b15eb06f631",
          "showTitle": false,
          "tableResultSettingsMap": {},
          "title": ""
        },
        "id": "ppo8hBmQi943"
      },
      "source": [
        "# Extracción de Datos"
      ]
    },
    {
      "cell_type": "code",
      "source": [
        "spark = SparkSession.builder.appName(\"Taller_Strokes\").getOrCreate()\n",
        "\n",
        "cores = spark._jsc.sc().getExecutorMemoryStatus().keySet().size()\n",
        "print(\"Ejcución de las tareas en \", cores, \"core(s) del sistema de cómputo actual\")\n",
        "spark"
      ],
      "metadata": {
        "colab": {
          "base_uri": "https://localhost:8080/",
          "height": 237
        },
        "id": "YOGgKeEanPX8",
        "outputId": "7a3c6288-25ee-4a61-ad72-eb2bb0c566c7"
      },
      "execution_count": 2,
      "outputs": [
        {
          "output_type": "stream",
          "name": "stdout",
          "text": [
            "Ejcución de las tareas en  1 core(s) del sistema de cómputo actual\n"
          ]
        },
        {
          "output_type": "execute_result",
          "data": {
            "text/plain": [
              "<pyspark.sql.session.SparkSession at 0x7bab3f1dcf10>"
            ],
            "text/html": [
              "\n",
              "            <div>\n",
              "                <p><b>SparkSession - in-memory</b></p>\n",
              "                \n",
              "        <div>\n",
              "            <p><b>SparkContext</b></p>\n",
              "\n",
              "            <p><a href=\"http://5d3aa8a5782c:4040\">Spark UI</a></p>\n",
              "\n",
              "            <dl>\n",
              "              <dt>Version</dt>\n",
              "                <dd><code>v3.5.1</code></dd>\n",
              "              <dt>Master</dt>\n",
              "                <dd><code>local[*]</code></dd>\n",
              "              <dt>AppName</dt>\n",
              "                <dd><code>Taller_Strokes</code></dd>\n",
              "            </dl>\n",
              "        </div>\n",
              "        \n",
              "            </div>\n",
              "        "
            ]
          },
          "metadata": {},
          "execution_count": 2
        }
      ]
    },
    {
      "cell_type": "code",
      "source": [
        "from pyspark import SparkFiles\n",
        "\n",
        "url_github = \"https://raw.githubusercontent.com/corredor-john/ExploratoryDataAnalisys/refs/heads/main/Varios/stroke_pyspark.csv\"\n",
        "spark.sparkContext.addFile(url_github)\n",
        "\n",
        "df00 = spark.read.csv(\"file://\" + SparkFiles.get(\"stroke_pyspark.csv\"), inferSchema=True, header=True)\n",
        "df00.show(5)\n"
      ],
      "metadata": {
        "colab": {
          "base_uri": "https://localhost:8080/"
        },
        "id": "rUTcyjUjnxB0",
        "outputId": "8a6ef796-1c5c-4985-ec5b-df1fec5fae70"
      },
      "execution_count": 3,
      "outputs": [
        {
          "output_type": "stream",
          "name": "stdout",
          "text": [
            "+-----+------+----+------------+-------------+------------+-------------+--------------+-----------------+----+---------------+------+\n",
            "|   id|gender| age|hypertension|heart_disease|ever_married|    work_type|Residence_type|avg_glucose_level| bmi| smoking_status|stroke|\n",
            "+-----+------+----+------------+-------------+------------+-------------+--------------+-----------------+----+---------------+------+\n",
            "| 9046|  Male|67.0|           0|            1|         Yes|      Private|         Urban|           228.69|36.6|formerly smoked|     1|\n",
            "|51676|Female|61.0|           0|            0|         Yes|Self-employed|         Rural|           202.21| N/A|   never smoked|     1|\n",
            "|31112|  Male|80.0|           0|            1|         Yes|      Private|         Rural|           105.92|32.5|   never smoked|     1|\n",
            "|60182|Female|49.0|           0|            0|         Yes|      Private|         Urban|           171.23|34.4|         smokes|     1|\n",
            "| 1665|Female|79.0|           1|            0|         Yes|Self-employed|         Rural|           174.12|  24|   never smoked|     1|\n",
            "+-----+------+----+------------+-------------+------------+-------------+--------------+-----------------+----+---------------+------+\n",
            "only showing top 5 rows\n",
            "\n"
          ]
        }
      ]
    },
    {
      "cell_type": "markdown",
      "metadata": {
        "application/vnd.databricks.v1+cell": {
          "cellMetadata": {},
          "inputWidgets": {},
          "nuid": "370eb85a-0bbd-4660-b551-b2a12fdebcbc",
          "showTitle": false,
          "tableResultSettingsMap": {},
          "title": ""
        },
        "id": "7FO6lPY-i944"
      },
      "source": [
        "# Modificación de los Datos"
      ]
    },
    {
      "cell_type": "markdown",
      "metadata": {
        "application/vnd.databricks.v1+cell": {
          "cellMetadata": {
            "byteLimit": 2048000,
            "rowLimit": 10000
          },
          "inputWidgets": {},
          "nuid": "2a64debd-4846-4fcd-a712-24b5f85a7eab",
          "showTitle": false,
          "tableResultSettingsMap": {},
          "title": ""
        },
        "id": "WO3y1eCei944"
      },
      "source": [
        "1. Cambiar nombre de las columnas"
      ]
    },
    {
      "cell_type": "code",
      "execution_count": 4,
      "metadata": {
        "application/vnd.databricks.v1+cell": {
          "cellMetadata": {
            "byteLimit": 2048000,
            "rowLimit": 10000
          },
          "inputWidgets": {},
          "nuid": "ae192ccd-1b34-4a0a-9145-92e7c55db7f0",
          "showTitle": false,
          "tableResultSettingsMap": {},
          "title": ""
        },
        "id": "mRjwYqsgi944",
        "outputId": "181b564f-d226-428a-acbf-d28782ba5b21",
        "colab": {
          "base_uri": "https://localhost:8080/"
        }
      },
      "outputs": [
        {
          "output_type": "stream",
          "name": "stdout",
          "text": [
            "root\n",
            " |-- id: integer (nullable = true)\n",
            " |-- genero: string (nullable = true)\n",
            " |-- edad: double (nullable = true)\n",
            " |-- hipertension: integer (nullable = true)\n",
            " |-- enfCardiacas: integer (nullable = true)\n",
            " |-- estadoCivil: string (nullable = true)\n",
            " |-- tipoTrabajo: string (nullable = true)\n",
            " |-- tipoRecidencia: string (nullable = true)\n",
            " |-- promedioGlucosa: double (nullable = true)\n",
            " |-- IMC: string (nullable = true)\n",
            " |-- fumador: string (nullable = true)\n",
            " |-- paracardiaco: integer (nullable = true)\n",
            "\n"
          ]
        }
      ],
      "source": [
        "nuevosNombres = ['id', 'genero', 'edad',\n",
        "                 'hipertension', 'enfCardiacas', 'estadoCivil',\n",
        "                 'tipoTrabajo', 'tipoRecidencia', 'promedioGlucosa',\n",
        "                 'IMC', 'fumador', 'paracardiaco']\n",
        "df01 = df00\n",
        "\n",
        "# Hacer cambio de las columbas con 'nuevosNombres'\n",
        "for antes, nuevo in zip(df00.columns, nuevosNombres):\n",
        "    df01 = df01.withColumnRenamed(antes, nuevo)\n",
        "\n",
        "# Mostrar esquema cambiado\n",
        "df01.printSchema()\n"
      ]
    },
    {
      "cell_type": "markdown",
      "metadata": {
        "application/vnd.databricks.v1+cell": {
          "cellMetadata": {},
          "inputWidgets": {},
          "nuid": "26053559-13af-439f-9be5-7e68f01dc02a",
          "showTitle": false,
          "tableResultSettingsMap": {},
          "title": ""
        },
        "id": "pP4bP59Vi945"
      },
      "source": [
        "2. Cambiar el tipo de dato en edad e IMC"
      ]
    },
    {
      "cell_type": "code",
      "execution_count": 5,
      "metadata": {
        "application/vnd.databricks.v1+cell": {
          "cellMetadata": {
            "byteLimit": 2048000,
            "rowLimit": 10000
          },
          "inputWidgets": {},
          "nuid": "fa8f9f05-96ed-410b-aea6-b6d6a1f9cdd6",
          "showTitle": false,
          "tableResultSettingsMap": {},
          "title": ""
        },
        "id": "y0MHexnbi945",
        "outputId": "113f7086-9b34-4f9f-df1e-0084fa8e0899",
        "colab": {
          "base_uri": "https://localhost:8080/"
        }
      },
      "outputs": [
        {
          "output_type": "stream",
          "name": "stdout",
          "text": [
            "root\n",
            " |-- id: integer (nullable = true)\n",
            " |-- genero: string (nullable = true)\n",
            " |-- edad: integer (nullable = true)\n",
            " |-- hipertension: integer (nullable = true)\n",
            " |-- enfCardiacas: integer (nullable = true)\n",
            " |-- estadoCivil: string (nullable = true)\n",
            " |-- tipoTrabajo: string (nullable = true)\n",
            " |-- tipoRecidencia: string (nullable = true)\n",
            " |-- promedioGlucosa: double (nullable = true)\n",
            " |-- IMC: double (nullable = true)\n",
            " |-- fumador: string (nullable = true)\n",
            " |-- paracardiaco: integer (nullable = true)\n",
            "\n"
          ]
        }
      ],
      "source": [
        "# Casteo de datos\n",
        "df01 = df01.withColumn(\"edad\", df01.edad.cast(\"int\"))\n",
        "df01 = df01.withColumn(\"IMC\", df01.IMC.cast(\"double\"))\n",
        "\n",
        "# Mostrar esquema nuevo\n",
        "df01.printSchema()"
      ]
    },
    {
      "cell_type": "markdown",
      "metadata": {
        "application/vnd.databricks.v1+cell": {
          "cellMetadata": {},
          "inputWidgets": {},
          "nuid": "0ba87c2d-00be-4858-adfc-2733e141293d",
          "showTitle": false,
          "tableResultSettingsMap": {},
          "title": ""
        },
        "id": "Pu7LNxTMi945"
      },
      "source": [
        "# Limpieza de los Datos"
      ]
    },
    {
      "cell_type": "markdown",
      "metadata": {
        "application/vnd.databricks.v1+cell": {
          "cellMetadata": {},
          "inputWidgets": {},
          "nuid": "ef8373d1-bfb3-4857-95ff-3c512d0ede15",
          "showTitle": false,
          "tableResultSettingsMap": {},
          "title": ""
        },
        "id": "k0yyiWL_i946"
      },
      "source": [
        "1. Detectar cuantos datos nulos hay en cada columna de <code>df01</code>"
      ]
    },
    {
      "cell_type": "code",
      "execution_count": 6,
      "metadata": {
        "application/vnd.databricks.v1+cell": {
          "cellMetadata": {
            "byteLimit": 2048000,
            "rowLimit": 10000
          },
          "inputWidgets": {},
          "nuid": "ca28d617-e687-4019-bed7-ec7f4189312a",
          "showTitle": false,
          "tableResultSettingsMap": {},
          "title": ""
        },
        "id": "kKZHrsDDi946",
        "outputId": "23e0a5a0-3f0c-4f97-e5e2-c891f2dbc70d",
        "colab": {
          "base_uri": "https://localhost:8080/"
        }
      },
      "outputs": [
        {
          "output_type": "stream",
          "name": "stdout",
          "text": [
            "+---+------+----+------------+------------+-----------+-----------+--------------+---------------+---+-------+------------+\n",
            "| id|genero|edad|hipertension|enfCardiacas|estadoCivil|tipoTrabajo|tipoRecidencia|promedioGlucosa|IMC|fumador|paracardiaco|\n",
            "+---+------+----+------------+------------+-----------+-----------+--------------+---------------+---+-------+------------+\n",
            "|  0|     0|   0|           0|           0|          0|          0|             0|              0|201|      0|           0|\n",
            "+---+------+----+------------+------------+-----------+-----------+--------------+---------------+---+-------+------------+\n",
            "\n"
          ]
        }
      ],
      "source": [
        "df01.select([count(when(isnan(c) | col(c).isNull(),c)).alias(c) for c in df01.columns]).show()"
      ]
    },
    {
      "cell_type": "markdown",
      "metadata": {
        "application/vnd.databricks.v1+cell": {
          "cellMetadata": {},
          "inputWidgets": {},
          "nuid": "fe28186a-0915-423f-b5cc-e8c6b24e3dfb",
          "showTitle": false,
          "tableResultSettingsMap": {},
          "title": ""
        },
        "id": "GrVWGBWHi946"
      },
      "source": [
        "Se pued observar que la columna IMc presenta datos Nulos o Imposibes. A pesar que el porcentaje de datos nulos son muy bajos, se requiere crear una estrategia para mutar o cambiar los datos, sin que sean eliminados.\n",
        "-    Se requiere hacer estratos de promedio cada 10 años\n",
        "-    Los promedios por estratos se catalogan por género\n",
        "-    Se sustituye por el promedio los nulos según género/estrato_edad"
      ]
    },
    {
      "cell_type": "markdown",
      "metadata": {
        "application/vnd.databricks.v1+cell": {
          "cellMetadata": {},
          "inputWidgets": {},
          "nuid": "7f61e599-c2a5-4dd5-920f-e618c1209997",
          "showTitle": false,
          "tableResultSettingsMap": {},
          "title": ""
        },
        "id": "1dd31VPci946"
      },
      "source": [
        "2. Revisamos el número de géneros en <code>df01</code>"
      ]
    },
    {
      "cell_type": "code",
      "execution_count": 7,
      "metadata": {
        "application/vnd.databricks.v1+cell": {
          "cellMetadata": {
            "byteLimit": 2048000,
            "rowLimit": 10000
          },
          "inputWidgets": {},
          "nuid": "515e24c5-3a70-4b18-af1b-c4d57165da1d",
          "showTitle": false,
          "tableResultSettingsMap": {},
          "title": ""
        },
        "id": "CzOWA_DKi946",
        "outputId": "b066e8d7-1787-43a3-c92a-272cc451603e",
        "colab": {
          "base_uri": "https://localhost:8080/"
        }
      },
      "outputs": [
        {
          "output_type": "stream",
          "name": "stdout",
          "text": [
            "+------+-----+\n",
            "|genero|count|\n",
            "+------+-----+\n",
            "|Female| 2994|\n",
            "| Other|    1|\n",
            "|  Male| 2115|\n",
            "+------+-----+\n",
            "\n"
          ]
        }
      ],
      "source": [
        "#Obtener cantidad total de registros\n",
        "\n",
        "df01.groupby(['genero']).count().show()"
      ]
    },
    {
      "cell_type": "markdown",
      "metadata": {
        "application/vnd.databricks.v1+cell": {
          "cellMetadata": {},
          "inputWidgets": {},
          "nuid": "2cdb750a-b178-488c-a491-4819f837262f",
          "showTitle": false,
          "tableResultSettingsMap": {},
          "title": ""
        },
        "id": "couNXgjBi946"
      },
      "source": [
        "2.1. Revisar el resto de datos"
      ]
    },
    {
      "cell_type": "code",
      "execution_count": 8,
      "metadata": {
        "application/vnd.databricks.v1+cell": {
          "cellMetadata": {},
          "inputWidgets": {},
          "nuid": "c10efc53-0668-4678-96f0-45e1d5ae52ee",
          "showTitle": false,
          "tableResultSettingsMap": {},
          "title": ""
        },
        "id": "KxZhSj1fi946",
        "colab": {
          "base_uri": "https://localhost:8080/"
        },
        "outputId": "ac6b3d00-856d-46fa-80ec-c22eca357dbc"
      },
      "outputs": [
        {
          "output_type": "stream",
          "name": "stdout",
          "text": [
            "+-----+-----+\n",
            "|   id|count|\n",
            "+-----+-----+\n",
            "|18051|    1|\n",
            "|18498|    1|\n",
            "|36355|    1|\n",
            "|28024|    1|\n",
            "|54264|    1|\n",
            "|14832|    1|\n",
            "|33412|    1|\n",
            "|48875|    1|\n",
            "|37307|    1|\n",
            "|32445|    1|\n",
            "|47501|    1|\n",
            "|58061|    1|\n",
            "| 7754|    1|\n",
            "|18866|    1|\n",
            "| 4219|    1|\n",
            "|66400|    1|\n",
            "|36706|    1|\n",
            "|37832|    1|\n",
            "|25283|    1|\n",
            "|13622|    1|\n",
            "+-----+-----+\n",
            "only showing top 20 rows\n",
            "\n",
            "+----+-----+\n",
            "|edad|count|\n",
            "+----+-----+\n",
            "|  31|   79|\n",
            "|  65|   62|\n",
            "|  53|   85|\n",
            "|  78|  102|\n",
            "|  34|   68|\n",
            "|  81|   60|\n",
            "|  28|   54|\n",
            "|  76|   50|\n",
            "|  27|   55|\n",
            "|  26|   62|\n",
            "|  44|   75|\n",
            "|  12|   45|\n",
            "|  22|   45|\n",
            "|  47|   75|\n",
            "|   1|   77|\n",
            "|  52|   90|\n",
            "|  13|   57|\n",
            "|  16|   52|\n",
            "|   6|   24|\n",
            "|   3|   46|\n",
            "+----+-----+\n",
            "only showing top 20 rows\n",
            "\n",
            "+------------+-----+\n",
            "|hipertension|count|\n",
            "+------------+-----+\n",
            "|           1|  498|\n",
            "|           0| 4612|\n",
            "+------------+-----+\n",
            "\n",
            "+------------+-----+\n",
            "|enfCardiacas|count|\n",
            "+------------+-----+\n",
            "|           1|  276|\n",
            "|           0| 4834|\n",
            "+------------+-----+\n",
            "\n",
            "+-----------+-----+\n",
            "|estadoCivil|count|\n",
            "+-----------+-----+\n",
            "|         No| 1757|\n",
            "|        Yes| 3353|\n",
            "+-----------+-----+\n",
            "\n",
            "+-------------+-----+\n",
            "|  tipoTrabajo|count|\n",
            "+-------------+-----+\n",
            "| Never_worked|   22|\n",
            "|Self-employed|  819|\n",
            "|      Private| 2925|\n",
            "|     children|  687|\n",
            "|     Govt_job|  657|\n",
            "+-------------+-----+\n",
            "\n",
            "+--------------+-----+\n",
            "|tipoRecidencia|count|\n",
            "+--------------+-----+\n",
            "|         Urban| 2596|\n",
            "|         Rural| 2514|\n",
            "+--------------+-----+\n",
            "\n",
            "+---------------+-----+\n",
            "|promedioGlucosa|count|\n",
            "+---------------+-----+\n",
            "|         242.52|    1|\n",
            "|          60.98|    4|\n",
            "|          76.46|    1|\n",
            "|          98.09|    2|\n",
            "|          73.73|    1|\n",
            "|          78.75|    1|\n",
            "|          75.29|    1|\n",
            "|          79.89|    4|\n",
            "|          77.19|    2|\n",
            "|          206.4|    1|\n",
            "|          61.78|    1|\n",
            "|         151.25|    2|\n",
            "|          95.57|    1|\n",
            "|          65.78|    1|\n",
            "|          58.51|    1|\n",
            "|           74.5|    2|\n",
            "|           64.2|    1|\n",
            "|         116.04|    2|\n",
            "|         106.01|    1|\n",
            "|          85.86|    1|\n",
            "+---------------+-----+\n",
            "only showing top 20 rows\n",
            "\n",
            "+----+-----+\n",
            "| IMC|count|\n",
            "+----+-----+\n",
            "|26.7|   37|\n",
            "|15.5|    5|\n",
            "|49.8|    3|\n",
            "|13.4|    1|\n",
            "|14.9|    1|\n",
            "|47.5|    3|\n",
            "|15.4|    3|\n",
            "|37.1|    7|\n",
            "|25.1|   34|\n",
            "|15.7|    3|\n",
            "|45.3|    4|\n",
            "|32.3|   28|\n",
            "|18.3|   17|\n",
            "|24.7|   22|\n",
            "|44.8|    4|\n",
            "|49.9|    1|\n",
            "|50.9|    1|\n",
            "|54.2|    1|\n",
            "|26.4|   34|\n",
            "|43.3|    5|\n",
            "+----+-----+\n",
            "only showing top 20 rows\n",
            "\n",
            "+---------------+-----+\n",
            "|        fumador|count|\n",
            "+---------------+-----+\n",
            "|         smokes|  789|\n",
            "|        Unknown| 1544|\n",
            "|   never smoked| 1892|\n",
            "|formerly smoked|  885|\n",
            "+---------------+-----+\n",
            "\n",
            "+------------+-----+\n",
            "|paracardiaco|count|\n",
            "+------------+-----+\n",
            "|           1|  249|\n",
            "|           0| 4861|\n",
            "+------------+-----+\n",
            "\n"
          ]
        }
      ],
      "source": [
        "df01.groupby('id').count().show()\n",
        "df01.groupby('edad').count().show()\n",
        "df01.groupby('hipertension').count().show()\n",
        "df01.groupby('enfCardiacas').count().show()\n",
        "df01.groupby('estadoCivil').count().show()\n",
        "df01.groupby('tipoTrabajo').count().show()\n",
        "df01.groupby('tipoRecidencia').count().show()\n",
        "df01.groupby('promedioGlucosa').count().show()\n",
        "df01.groupby('IMC').count().show()\n",
        "df01.groupby('fumador').count().show()\n",
        "df01.groupby('paracardiaco').count().show()\n"
      ]
    },
    {
      "cell_type": "markdown",
      "metadata": {
        "application/vnd.databricks.v1+cell": {
          "cellMetadata": {},
          "inputWidgets": {},
          "nuid": "b7e10c3b-1cd6-46cf-9485-c3408f0998fa",
          "showTitle": false,
          "tableResultSettingsMap": {},
          "title": ""
        },
        "id": "HanrQGsKi946"
      },
      "source": [
        "3. Borramos el genero <code>Other</code> por lo despreciable de su valor"
      ]
    },
    {
      "cell_type": "code",
      "execution_count": 9,
      "metadata": {
        "application/vnd.databricks.v1+cell": {
          "cellMetadata": {
            "byteLimit": 2048000,
            "rowLimit": 10000
          },
          "inputWidgets": {},
          "nuid": "c0ba9ce2-ad94-4507-8d22-712b1c19899e",
          "showTitle": false,
          "tableResultSettingsMap": {},
          "title": ""
        },
        "id": "xf039eRzi946",
        "outputId": "cb38ec46-5314-455b-d5f2-3499de866ceb",
        "colab": {
          "base_uri": "https://localhost:8080/"
        }
      },
      "outputs": [
        {
          "output_type": "stream",
          "name": "stdout",
          "text": [
            "+------+-----+\n",
            "|genero|count|\n",
            "+------+-----+\n",
            "|Female| 2994|\n",
            "|  Male| 2115|\n",
            "+------+-----+\n",
            "\n"
          ]
        }
      ],
      "source": [
        "#Se descarta el registro cuyo valor en género es 'Other'\n",
        "df02 = df01.where(\"genero <> 'Other'\")\n",
        "\n",
        "#Se verifica que ya no este 'Other'\n",
        "df02.groupby(['genero']).count().show()"
      ]
    },
    {
      "cell_type": "markdown",
      "metadata": {
        "application/vnd.databricks.v1+cell": {
          "cellMetadata": {},
          "inputWidgets": {},
          "nuid": "0fe11cce-bc62-46fa-8295-52aac3c065e6",
          "showTitle": false,
          "tableResultSettingsMap": {},
          "title": ""
        },
        "id": "Yz3G23TOi946"
      },
      "source": [
        "4. Definimos una función para remplazara los valores nulos de la columna IMC"
      ]
    },
    {
      "cell_type": "code",
      "execution_count": 10,
      "metadata": {
        "application/vnd.databricks.v1+cell": {
          "cellMetadata": {
            "byteLimit": 2048000,
            "rowLimit": 10000
          },
          "inputWidgets": {},
          "nuid": "2ac53b6b-8781-4bbc-b43f-709a1b99d5c2",
          "showTitle": false,
          "tableResultSettingsMap": {},
          "title": ""
        },
        "id": "RXQH4cpqi946"
      },
      "outputs": [],
      "source": [
        "def fill_imc_for_age_range(df, genero, edad_min, edad_max, avg_val):\n",
        "    \"\"\"\n",
        "    Reemplaza los valores nulos de la columna IMC para un género y rango de edad específicos.\n",
        "\n",
        "    Parameters:\n",
        "      df (DataFrame): DataFrame de entrada.\n",
        "      genero (str): Valor del campo 'genero' (por ejemplo, 'Female').\n",
        "      edad_min (int): Límite inferior (inclusive) del rango de edad.\n",
        "      edad_max (int): Límite superior (exclusivo) del rango de edad.\n",
        "      avg_val (float): Valor promedio que se usará para reemplazar nulos.\n",
        "\n",
        "    Returns:\n",
        "      DataFrame: DataFrame con la columna IMC actualizada.\n",
        "    \"\"\"\n",
        "    condition = (\n",
        "        (F.col(\"genero\") == genero) &\n",
        "        (F.col(\"IMC\").isNull()) &\n",
        "        (F.col(\"edad\") >= edad_min) &\n",
        "        (F.col(\"edad\") < edad_max)\n",
        "    )\n",
        "    return df.withColumn(\"IMC\", F.when(condition, F.lit(avg_val)).otherwise(F.col(\"IMC\")))"
      ]
    },
    {
      "cell_type": "markdown",
      "metadata": {
        "application/vnd.databricks.v1+cell": {
          "cellMetadata": {},
          "inputWidgets": {},
          "nuid": "9b11d1cb-546e-4013-acb2-46d2907952c6",
          "showTitle": false,
          "tableResultSettingsMap": {},
          "title": ""
        },
        "id": "Zq5C5yT3i947"
      },
      "source": [
        "4. Hacemos un ciclo para que remplace los valore de [0,90) en el caso de las mujeres"
      ]
    },
    {
      "cell_type": "code",
      "execution_count": 11,
      "metadata": {
        "application/vnd.databricks.v1+cell": {
          "cellMetadata": {},
          "inputWidgets": {},
          "nuid": "51563e52-6d9e-43c3-9a9e-f794f05f3f32",
          "showTitle": false,
          "tableResultSettingsMap": {},
          "title": ""
        },
        "id": "NahvW7Vzi947"
      },
      "outputs": [],
      "source": [
        "# Paso_uno: Partimos del DataFrame original\n",
        "df03 = df02\n",
        "\n",
        "# Paso_dos: Definimos el rango de edades.\n",
        "for lower in range(0, 90, 10):\n",
        "    upper = lower + 10\n",
        "    # Calculamos el promedio de IMC para mujeres en el rango [lower, upper)\n",
        "    avg_val = df02.where(\n",
        "        (F.col(\"genero\") == \"Female\") &\n",
        "        (F.col(\"edad\") >= lower) &\n",
        "        (F.col(\"edad\") < upper)\n",
        "    ).select(F.mean(\"IMC\").alias(\"avg_imc\")).collect()[0][\"avg_imc\"]\n",
        "\n",
        "    # Se puede agregar una validación en caso de que no haya registros en el rango.\n",
        "    if avg_val is not None:\n",
        "        df03 = fill_imc_for_age_range(df03, \"Female\", lower, upper, avg_val)"
      ]
    },
    {
      "cell_type": "code",
      "execution_count": 12,
      "metadata": {
        "application/vnd.databricks.v1+cell": {
          "cellMetadata": {
            "byteLimit": 2048000,
            "rowLimit": 10000
          },
          "inputWidgets": {},
          "nuid": "6899b27d-17ec-485e-a02f-55e1c1d2ac2d",
          "showTitle": false,
          "tableResultSettingsMap": {},
          "title": ""
        },
        "id": "hD3PHTJQi947",
        "outputId": "56f24201-3439-40e3-e937-b6febe699dfd",
        "colab": {
          "base_uri": "https://localhost:8080/"
        }
      },
      "outputs": [
        {
          "output_type": "stream",
          "name": "stdout",
          "text": [
            "+---+------+----+------------+------------+-----------+-----------+--------------+---------------+---+-------+------------+\n",
            "| id|genero|edad|hipertension|enfCardiacas|estadoCivil|tipoTrabajo|tipoRecidencia|promedioGlucosa|IMC|fumador|paracardiaco|\n",
            "+---+------+----+------------+------------+-----------+-----------+--------------+---------------+---+-------+------------+\n",
            "|  0|     0|   0|           0|           0|          0|          0|             0|              0|104|      0|           0|\n",
            "+---+------+----+------------+------------+-----------+-----------+--------------+---------------+---+-------+------------+\n",
            "\n"
          ]
        }
      ],
      "source": [
        "df03.select([count(when(isnan(c) | col(c).isNull(),c)).alias(c) for c in df03.columns]).show()"
      ]
    },
    {
      "cell_type": "markdown",
      "metadata": {
        "application/vnd.databricks.v1+cell": {
          "cellMetadata": {},
          "inputWidgets": {},
          "nuid": "af356326-d654-43c7-8f84-bfc7ce0d8478",
          "showTitle": false,
          "tableResultSettingsMap": {},
          "title": ""
        },
        "id": "qdlMjoJSi947"
      },
      "source": [
        "Notamos que hubo un cambio significativo en los datos, donde los datos nulos del IMC son 104"
      ]
    },
    {
      "cell_type": "markdown",
      "metadata": {
        "application/vnd.databricks.v1+cell": {
          "cellMetadata": {},
          "inputWidgets": {},
          "nuid": "7df30222-c19a-4199-9d3a-dc25f127fcce",
          "showTitle": false,
          "tableResultSettingsMap": {},
          "title": ""
        },
        "id": "GmWAhXaFi947"
      },
      "source": [
        "5. Haremos lo mismo pero en el caso de los hombres"
      ]
    },
    {
      "cell_type": "code",
      "execution_count": 13,
      "metadata": {
        "application/vnd.databricks.v1+cell": {
          "cellMetadata": {
            "byteLimit": 2048000,
            "rowLimit": 10000
          },
          "inputWidgets": {},
          "nuid": "031d57a7-23ee-4e46-84da-f3f1d94c31ff",
          "showTitle": false,
          "tableResultSettingsMap": {},
          "title": ""
        },
        "id": "i5JsvdoXi947"
      },
      "outputs": [],
      "source": [
        "# Paso_uno: Partimos del DataFrame original\n",
        "df04 = df03\n",
        "\n",
        "# Paso_dos: Definimos el rango de edades.\n",
        "for lower in range(0, 90, 10):\n",
        "    upper = lower + 10\n",
        "    # Calculamos el promedio de IMC para mujeres en el rango [lower, upper)\n",
        "    avg_val = df02.where(\n",
        "        (F.col(\"genero\") == \"Male\") &\n",
        "        (F.col(\"edad\") >= lower) &\n",
        "        (F.col(\"edad\") < upper)\n",
        "    ).select(F.mean(\"IMC\").alias(\"avg_imc\")).collect()[0][\"avg_imc\"]\n",
        "\n",
        "    # Se puede agregar una validación en caso de que no haya registros en el rango.\n",
        "    if avg_val is not None:\n",
        "        df03 = fill_imc_for_age_range(df03, \"Male\", lower, upper, avg_val)"
      ]
    },
    {
      "cell_type": "code",
      "execution_count": 14,
      "metadata": {
        "application/vnd.databricks.v1+cell": {
          "cellMetadata": {
            "byteLimit": 2048000,
            "rowLimit": 10000
          },
          "inputWidgets": {},
          "nuid": "db543b4e-fab0-4f84-a691-f9fe2fa8fb13",
          "showTitle": false,
          "tableResultSettingsMap": {},
          "title": ""
        },
        "id": "m8gcPfyQi947",
        "outputId": "785c3f73-d93a-469a-e81a-77e517965f42",
        "colab": {
          "base_uri": "https://localhost:8080/"
        }
      },
      "outputs": [
        {
          "output_type": "stream",
          "name": "stdout",
          "text": [
            "+---+------+----+------------+------------+-----------+-----------+--------------+---------------+---+-------+------------+\n",
            "| id|genero|edad|hipertension|enfCardiacas|estadoCivil|tipoTrabajo|tipoRecidencia|promedioGlucosa|IMC|fumador|paracardiaco|\n",
            "+---+------+----+------------+------------+-----------+-----------+--------------+---------------+---+-------+------------+\n",
            "|  0|     0|   0|           0|           0|          0|          0|             0|              0|104|      0|           0|\n",
            "+---+------+----+------------+------------+-----------+-----------+--------------+---------------+---+-------+------------+\n",
            "\n"
          ]
        }
      ],
      "source": [
        "df04.select([count(when(isnan(c) | col(c).isNull(),c)).alias(c) for c in df04.columns]).show()"
      ]
    },
    {
      "cell_type": "markdown",
      "metadata": {
        "application/vnd.databricks.v1+cell": {
          "cellMetadata": {},
          "inputWidgets": {},
          "nuid": "75592628-77af-4e98-a49c-fa128396313a",
          "showTitle": false,
          "tableResultSettingsMap": {},
          "title": ""
        },
        "id": "XE2tCwJEi947"
      },
      "source": [
        "# Visualización de los Datos"
      ]
    },
    {
      "cell_type": "markdown",
      "metadata": {
        "application/vnd.databricks.v1+cell": {
          "cellMetadata": {},
          "inputWidgets": {},
          "nuid": "c284d27e-131c-44da-b33e-bf84491b5ee3",
          "showTitle": false,
          "tableResultSettingsMap": {},
          "title": ""
        },
        "id": "NUav9cc3i947"
      },
      "source": [
        "1. Construir un histograma donde se vea la distribución de las edades"
      ]
    },
    {
      "cell_type": "code",
      "execution_count": 15,
      "metadata": {
        "application/vnd.databricks.v1+cell": {
          "cellMetadata": {
            "byteLimit": 2048000,
            "rowLimit": 10000
          },
          "inputWidgets": {},
          "nuid": "3d376b4d-3766-41ba-8a36-dc0e2d69df4f",
          "showTitle": false,
          "tableResultSettingsMap": {},
          "title": ""
        },
        "id": "13983IHVi947",
        "outputId": "b4b8948f-7553-438c-a28e-f33a20d6b9e6",
        "colab": {
          "base_uri": "https://localhost:8080/",
          "height": 564
        }
      },
      "outputs": [
        {
          "output_type": "display_data",
          "data": {
            "text/plain": [
              "<Figure size 1000x600 with 1 Axes>"
            ],
            "image/png": "[encoded data removed]"
          },
          "metadata": {}
        }
      ],
      "source": [
        "# Recolectamos todas las edades\n",
        "edades = df04.select(\"edad\").rdd.flatMap(lambda x: x).collect()\n",
        "\n",
        "plt.figure(figsize=(10, 6))\n",
        "plt.hist(edades, bins=20, color='steelblue', edgecolor='black')\n",
        "plt.xlabel('Edad')\n",
        "plt.xticks(np.arange(0, 91, 10))\n",
        "plt.ylabel('Cantidad de personas')\n",
        "plt.title('Histograma de Edades')\n",
        "plt.grid(True, linestyle='--', alpha=0.5)\n",
        "plt.show()"
      ]
    },
    {
      "cell_type": "markdown",
      "metadata": {
        "application/vnd.databricks.v1+cell": {
          "cellMetadata": {},
          "inputWidgets": {},
          "nuid": "e3a2ed35-dbff-4cd7-9674-197c5db75398",
          "showTitle": false,
          "tableResultSettingsMap": {},
          "title": ""
        },
        "id": "r0ZqI6Tqi947"
      },
      "source": [
        "Este histograma muestra que la mayoria de las <code>edades</code> se concentran entre 40-70 años"
      ]
    },
    {
      "cell_type": "markdown",
      "metadata": {
        "application/vnd.databricks.v1+cell": {
          "cellMetadata": {},
          "inputWidgets": {},
          "nuid": "64cbb007-004d-423e-a781-8c4d58eecd44",
          "showTitle": false,
          "tableResultSettingsMap": {},
          "title": ""
        },
        "id": "8LTLtldii947"
      },
      "source": [
        "2. Visualizar con una grafica la distribución de hombres y mujeres"
      ]
    },
    {
      "cell_type": "code",
      "execution_count": 16,
      "metadata": {
        "application/vnd.databricks.v1+cell": {
          "cellMetadata": {
            "byteLimit": 2048000,
            "rowLimit": 10000
          },
          "inputWidgets": {},
          "nuid": "017902f4-eb25-40ee-ae9e-69204f4c6492",
          "showTitle": false,
          "tableResultSettingsMap": {},
          "title": ""
        },
        "id": "a-_Ko9ETi947",
        "outputId": "f94172e0-f8c3-4c43-e74f-286d89205a53",
        "colab": {
          "base_uri": "https://localhost:8080/",
          "height": 472
        }
      },
      "outputs": [
        {
          "output_type": "display_data",
          "data": {
            "text/plain": [
              "<Figure size 640x480 with 1 Axes>"
            ],
            "image/png": "[encoded data removed]"
          },
          "metadata": {}
        }
      ],
      "source": [
        "genero = df04.groupby('genero').count().select('count').rdd.flatMap(lambda x: x).collect()\n",
        "\n",
        "categoria= ['Mujeres','Hombres']\n",
        "grafica = plt.bar(categoria,genero)\n",
        "grafica[0].set_color('r')\n",
        "plt.ylabel('cantidad')\n",
        "plt.xlabel('Género')\n",
        "plt.title('Gráfica de barras por género')\n",
        "plt.grid(True, linestyle='--', alpha=0.5)\n",
        "plt.show()"
      ]
    },
    {
      "cell_type": "markdown",
      "metadata": {
        "application/vnd.databricks.v1+cell": {
          "cellMetadata": {},
          "inputWidgets": {},
          "nuid": "fc6f4881-cb28-480d-880d-2d62a58aca12",
          "showTitle": false,
          "tableResultSettingsMap": {},
          "title": ""
        },
        "id": "qHufw3gGi948"
      },
      "source": [
        "Notamos que las mujeres predominan en la distribución"
      ]
    },
    {
      "cell_type": "markdown",
      "metadata": {
        "application/vnd.databricks.v1+cell": {
          "cellMetadata": {},
          "inputWidgets": {},
          "nuid": "8a6d1906-9698-49f4-99e5-2a0928e88713",
          "showTitle": false,
          "tableResultSettingsMap": {},
          "title": ""
        },
        "id": "bkOMCTSni948"
      },
      "source": [
        "3. Visulizar con una grafica, si es más propenso a una enfermadad cardiaca según el historico en el dataset.\n",
        "\n"
      ]
    },
    {
      "cell_type": "code",
      "execution_count": 17,
      "metadata": {
        "application/vnd.databricks.v1+cell": {
          "cellMetadata": {
            "byteLimit": 2048000,
            "rowLimit": 10000
          },
          "inputWidgets": {},
          "nuid": "ee542d8c-c6b5-4d22-b00a-176efc34a4b6",
          "showTitle": false,
          "tableResultSettingsMap": {},
          "title": ""
        },
        "id": "hku-RVNzi948",
        "outputId": "c30caa65-3357-4e1a-e59a-b27f8408b5e9",
        "colab": {
          "base_uri": "https://localhost:8080/",
          "height": 472
        }
      },
      "outputs": [
        {
          "output_type": "display_data",
          "data": {
            "text/plain": [
              "<Figure size 640x480 with 1 Axes>"
            ],
            "image/png": "[encoded data removed]"
          },
          "metadata": {}
        }
      ],
      "source": [
        "enfCardiaca = df04.groupby('enfCardiacas').count().select('count').rdd.flatMap(lambda x: x).collect()\n",
        "\n",
        "categoria= ['Si','No']\n",
        "grafica = plt.bar(categoria,enfCardiaca)\n",
        "grafica[0].set_color('r')\n",
        "plt.ylabel('cantidad')\n",
        "plt.xlabel('Enfermedad Cardiaca')\n",
        "plt.title('Gráfica de barras por Enfermedad Cardiaca')\n",
        "plt.grid(True, linestyle='--', alpha=0.5)\n",
        "plt.show()"
      ]
    },
    {
      "cell_type": "markdown",
      "metadata": {
        "application/vnd.databricks.v1+cell": {
          "cellMetadata": {},
          "inputWidgets": {},
          "nuid": "a9b5a68e-f262-4a28-aa56-c9e864fc16e7",
          "showTitle": false,
          "tableResultSettingsMap": {},
          "title": ""
        },
        "id": "VO5MYvOti948"
      },
      "source": [
        "En el historico encontramos que hay mayor frecuencia en NO tener una enfermedad cardiaca"
      ]
    },
    {
      "cell_type": "markdown",
      "source": [
        "Importar librerias y Crear la etiqueta\n"
      ],
      "metadata": {
        "id": "guWMx8hnqPCf"
      }
    },
    {
      "cell_type": "code",
      "source": [
        "from pyspark.ml.feature import StringIndexer, OneHotEncoder, VectorAssembler, Imputer\n",
        "from pyspark.ml import Pipeline\n",
        "from pyspark.ml.classification import DecisionTreeClassifier\n",
        "from pyspark.ml.evaluation import BinaryClassificationEvaluator\n",
        "from pyspark.sql.functions import when, col\n",
        "from sklearn.metrics import roc_curve, auc\n",
        "import matplotlib.pyplot as plt\n",
        "import numpy as np\n",
        "\n",
        "df_label = df04.withColumn(\"label\", when(col(\"paracardiaco\")==1, 1.0).otherwise(0.0))"
      ],
      "metadata": {
        "id": "-DL7pq4xpstv"
      },
      "execution_count": 18,
      "outputs": []
    },
    {
      "cell_type": "markdown",
      "source": [
        "Columnas"
      ],
      "metadata": {
        "id": "OZ0okTr_qWuY"
      }
    },
    {
      "cell_type": "code",
      "source": [
        "categoricalCols = [\"genero\", \"estadoCivil\", \"tipoTrabajo\", \"tipoRecidencia\", \"fumador\"]\n",
        "numericCols     = [\"edad\", \"hipertension\", \"enfCardiacas\", \"promedioGlucosa\", \"IMC\"]"
      ],
      "metadata": {
        "id": "O318EY6MpwGj"
      },
      "execution_count": 19,
      "outputs": []
    },
    {
      "cell_type": "markdown",
      "source": [
        "Index y OHE con handleInvalid=\"keep\" para no perder categorías desconocidas"
      ],
      "metadata": {
        "id": "xiXpIkg9qc94"
      }
    },
    {
      "cell_type": "code",
      "source": [
        "indexers = [\n",
        "    StringIndexer(inputCol=c, outputCol=c+\"_idx\", handleInvalid=\"keep\")\n",
        "    for c in categoricalCols\n",
        "]\n",
        "encoders = [\n",
        "    OneHotEncoder(inputCol=c+\"_idx\", outputCol=c+\"_ohe\", handleInvalid=\"keep\")\n",
        "    for c in categoricalCols\n",
        "]\n"
      ],
      "metadata": {
        "id": "kdAhloOxpxSl"
      },
      "execution_count": 20,
      "outputs": []
    },
    {
      "cell_type": "markdown",
      "source": [
        "Imputer para los numéricos\n"
      ],
      "metadata": {
        "id": "sIt3mSYJqeGP"
      }
    },
    {
      "cell_type": "code",
      "source": [
        "imputer = Imputer(\n",
        "    inputCols=numericCols,\n",
        "    outputCols=numericCols\n",
        ").setStrategy(\"mean\")"
      ],
      "metadata": {
        "id": "mI7vAwuYp0Th"
      },
      "execution_count": 21,
      "outputs": []
    },
    {
      "cell_type": "markdown",
      "source": [
        "Assembler\n"
      ],
      "metadata": {
        "id": "zAoVyfM8qh9m"
      }
    },
    {
      "cell_type": "code",
      "source": [
        "assembler = VectorAssembler(\n",
        "    inputCols=[c+\"_ohe\" for c in categoricalCols] + numericCols,\n",
        "    outputCol=\"features\"\n",
        ")"
      ],
      "metadata": {
        "id": "kVs0ctalp2Am"
      },
      "execution_count": 22,
      "outputs": []
    },
    {
      "cell_type": "markdown",
      "source": [
        "Pipeline completo\n"
      ],
      "metadata": {
        "id": "iA4V4phSqmcR"
      }
    },
    {
      "cell_type": "code",
      "source": [
        "pipeline = Pipeline(stages=indexers + encoders + [imputer, assembler])\n",
        "prepModel = pipeline.fit(df_label)\n",
        "data = prepModel.transform(df_label).select(\"features\", \"label\")"
      ],
      "metadata": {
        "id": "Ka7PUqSgp3mZ"
      },
      "execution_count": 23,
      "outputs": []
    },
    {
      "cell_type": "markdown",
      "source": [
        "División de datos entrenamiento/prueba"
      ],
      "metadata": {
        "id": "4dGAaVdzqsCM"
      }
    },
    {
      "cell_type": "code",
      "source": [
        "entrenamiento, prueba = data.randomSplit([0.7, 0.3], seed=13)"
      ],
      "metadata": {
        "id": "Fvj6mAo3p5bJ"
      },
      "execution_count": 24,
      "outputs": []
    },
    {
      "cell_type": "markdown",
      "source": [
        " Entrenar Decision Tree"
      ],
      "metadata": {
        "id": "p91nn0FfqwKb"
      }
    },
    {
      "cell_type": "code",
      "source": [
        "dt = DecisionTreeClassifier(\n",
        "    featuresCol=\"features\",\n",
        "    labelCol=\"label\",\n",
        "    maxDepth=4,\n",
        "    seed=13\n",
        ")\n",
        "modelo = dt.fit(entrenamiento)"
      ],
      "metadata": {
        "id": "JgjQWVWjp7R8"
      },
      "execution_count": 25,
      "outputs": []
    },
    {
      "cell_type": "markdown",
      "source": [
        "Predicciones y métricas\n"
      ],
      "metadata": {
        "id": "Ty6esKkBq2CE"
      }
    },
    {
      "cell_type": "code",
      "source": [
        "pred = modelo.transform(prueba)\n",
        "pred.select(\"prediction\",\"label\",\"probability\").show(5,False)"
      ],
      "metadata": {
        "colab": {
          "base_uri": "https://localhost:8080/"
        },
        "id": "nITFxKi5p9Lo",
        "outputId": "580c0f6d-1f8e-4ca9-e684-f88136a79fcc"
      },
      "execution_count": 26,
      "outputs": [
        {
          "output_type": "stream",
          "name": "stdout",
          "text": [
            "+----------+-----+-----------------------------------------+\n",
            "|prediction|label|probability                              |\n",
            "+----------+-----+-----------------------------------------+\n",
            "|0.0       |0.0  |[0.7397260273972602,0.2602739726027397]  |\n",
            "|0.0       |0.0  |[0.9898580121703854,0.010141987829614604]|\n",
            "|0.0       |0.0  |[0.904228855721393,0.09577114427860696]  |\n",
            "|0.0       |1.0  |[0.904228855721393,0.09577114427860696]  |\n",
            "|0.0       |0.0  |[0.904228855721393,0.09577114427860696]  |\n",
            "+----------+-----+-----------------------------------------+\n",
            "only showing top 5 rows\n",
            "\n"
          ]
        }
      ]
    },
    {
      "cell_type": "markdown",
      "source": [
        "Matriz de confusión\n"
      ],
      "metadata": {
        "id": "Gq8STS5Mq51f"
      }
    },
    {
      "cell_type": "code",
      "source": [
        "conf_df = (\n",
        "    pred\n",
        "    .groupBy(\"prediction\",\"label\")\n",
        "    .count()\n",
        "    .toPandas()\n",
        "    .pivot(index=\"prediction\",columns=\"label\",values=\"count\")\n",
        "    .fillna(0)\n",
        ")\n",
        "TP = conf_df.loc[1.0,1.0]\n",
        "FP = conf_df.loc[1.0,0.0]\n",
        "TN = conf_df.loc[0.0,0.0]\n",
        "FN = conf_df.loc[0.0,1.0]\n",
        "\n",
        "accuracy    = (TP+TN)/(TP+TN+FP+FN)\n",
        "sensitivity = TP/(TP+FN)\n",
        "specificity = TN/(TN+FP)\n",
        "precision   = TP/(TP+FP)\n",
        "\n",
        "print(f\"Accuracy    = {accuracy*100:.2f}%\")\n",
        "print(f\"Sensitivity = {sensitivity*100:.2f}%\")\n",
        "print(f\"Specificity = {specificity*100:.2f}%\")\n",
        "print(f\"Precision   = {precision*100:.2f}%\")"
      ],
      "metadata": {
        "colab": {
          "base_uri": "https://localhost:8080/"
        },
        "id": "hi-5M_n-qAD6",
        "outputId": "ed69ca6e-f9c1-49b3-f9ef-9da5a020c0a6"
      },
      "execution_count": 27,
      "outputs": [
        {
          "output_type": "stream",
          "name": "stdout",
          "text": [
            "Accuracy    = 94.71%\n",
            "Sensitivity = 2.50%\n",
            "Specificity = 99.86%\n",
            "Precision   = 50.00%\n"
          ]
        }
      ]
    },
    {
      "cell_type": "markdown",
      "source": [
        "AUC Spark\n"
      ],
      "metadata": {
        "id": "YrXjFsn6q9pD"
      }
    },
    {
      "cell_type": "code",
      "source": [
        "evaluator = BinaryClassificationEvaluator(\n",
        "    labelCol=\"label\",\n",
        "    rawPredictionCol=\"rawPrediction\",\n",
        "    metricName=\"areaUnderROC\"\n",
        ")\n",
        "auc_spark = evaluator.evaluate(pred)\n",
        "print(f\"AUC (Spark) = {auc_spark*100:.2f}%\")\n",
        "\n",
        "# Curva ROC con sklearn/matplotlib\n",
        "probs_labels = (\n",
        "    pred\n",
        "    .select(\"probability\",\"label\")\n",
        "    .rdd\n",
        "    .map(lambda r: (float(r.probability[1]), float(r.label)))\n",
        "    .toDF([\"probability\",\"label\"])\n",
        "    .toPandas()\n",
        ")\n",
        "fpr, tpr, _ = roc_curve(probs_labels[\"label\"], probs_labels[\"probability\"])\n",
        "roc_auc     = auc(fpr, tpr)\n",
        "\n",
        "plt.figure(figsize=(6, 6))\n",
        "\n",
        "# Curva ROC con mayor grosor de línea y eje 1:1\n",
        "plt.plot(fpr, tpr,\n",
        "         linewidth=2,\n",
        "         label=f'ROC (AUC = {roc_auc:.2f})')\n",
        "plt.plot([0, 1], [0, 1],\n",
        "         linestyle='--',\n",
        "         linewidth=1,\n",
        "         label='Clasificador aleatorio')\n",
        "\n",
        "# Ajustes de ejes\n",
        "plt.xlim(0.0, 1.0)\n",
        "plt.ylim(0.0, 1.0)\n",
        "plt.gca().set_aspect('equal', 'box')\n",
        "\n",
        "# Etiquetas y título\n",
        "plt.xlabel('Tasa de Falsos Positivos')\n",
        "plt.ylabel('Tasa de Verdaderos Positivos')\n",
        "plt.title('Curva ROC')\n",
        "plt.legend(loc='lower right', fontsize='small')\n",
        "\n",
        "# Mejor distribución del layout\n",
        "plt.tight_layout()\n",
        "\n",
        "# Mostrar\n",
        "plt.grid(True, which='both', linestyle=':', linewidth=0.5)\n",
        "plt.show()\n"
      ],
      "metadata": {
        "colab": {
          "base_uri": "https://localhost:8080/",
          "height": 624
        },
        "id": "P59ggGgEqDCJ",
        "outputId": "41f0fa06-c207-425b-c6b9-a8a4cf6cf320"
      },
      "execution_count": 29,
      "outputs": [
        {
          "output_type": "stream",
          "name": "stdout",
          "text": [
            "AUC (Spark) = 68.27%\n"
          ]
        },
        {
          "output_type": "display_data",
          "data": {
            "text/plain": [
              "<Figure size 600x600 with 1 Axes>"
            ],
            "image/png": "[encoded data removed]"
          },
          "metadata": {}
        }
      ]
    },
    {
      "cell_type": "markdown",
      "source": [
        "#Conclusiones"
      ],
      "metadata": {
        "id": "J1rzMjsxrgcQ"
      }
    },
    {
      "cell_type": "markdown",
      "metadata": {
        "application/vnd.databricks.v1+cell": {
          "cellMetadata": {},
          "inputWidgets": {},
          "nuid": "e73926d6-21ad-4590-840a-814cd020b4f9",
          "showTitle": false,
          "tableResultSettingsMap": {},
          "title": ""
        },
        "id": "mdn4nYvki948"
      },
      "source": [
        "### Preprocesamiento\n",
        "\n",
        "Se imputaron los valores faltantes y se codificaron las variables categóricas, obteniendo un dataset completamente limpio y listo para ser utilizado en el entrenamiento del modelo.\n",
        "\n",
        "### Entrenamiento\n",
        "\n",
        "Se entrenó un árbol de decisión con una profundidad máxima de 4, utilizando el 70 % del conjunto de datos. El modelo fue optimizado para diferenciar entre los casos etiquetados como “paracardíaco” y “no paracardíaco”.\n",
        "\n",
        "### Predicciones y matriz de confusión\n",
        "\n",
        "El modelo mostró una fuerte tendencia a predecir la clase negativa, lo que resultó en un alto número de verdaderos negativos, pero muy pocos verdaderos positivos. Esto sugiere un desbalance en las clases o una baja sensibilidad del modelo.\n",
        "\n",
        "### Métricas de clasificación\n",
        "\n",
        "- **Accuracy:** 94.71 %  \n",
        "- **Sensibilidad (Recall):** 2.50 %  \n",
        "- **Especificidad:** 99.86 %  \n",
        "- **Precisión:** 50.00 %\n",
        "\n",
        "Estas métricas reflejan un modelo altamente preciso para detectar casos negativos, pero con un rendimiento muy pobre al identificar correctamente los casos positivos.\n",
        "\n",
        "### Curva ROC / AUC\n",
        "\n",
        "El área bajo la curva (AUC) fue de aproximadamente 0.77, lo que indica una capacidad de discriminación moderada, claramente superior al azar, pero insuficiente para un modelo confiable en aplicaciones críticas.\n",
        "\n",
        "---\n",
        "\n",
        "**Conclusión:**  \n",
        "Aunque el modelo alcanza una alta exactitud y especificidad, su baja sensibilidad lo limita gravemente para detectar casos positivos reales. Se recomienda mejorar el balance de clases, ajustar los pesos o explorar otros algoritmos más robustos como Random Forest o XGBoost para mejorar la detección de la clase minoritaria.\n"
      ]
    }
  ],
  "metadata": {
    "application/vnd.databricks.v1+notebook": {
      "computePreferences": null,
      "dashboards": [],
      "environmentMetadata": {
        "base_environment": "",
        "client": "1"
      },
      "language": "python",
      "notebookMetadata": {
        "pythonIndentUnit": 4
      },
      "notebookName": "Torres_3_02",
      "widgets": {}
    },
    "language_info": {
      "name": "python"
    },
    "colab": {
      "provenance": []
    },
    "kernelspec": {
      "name": "python3",
      "display_name": "Python 3"
    }
  },
  "nbformat": 4,
  "nbformat_minor": 0
}